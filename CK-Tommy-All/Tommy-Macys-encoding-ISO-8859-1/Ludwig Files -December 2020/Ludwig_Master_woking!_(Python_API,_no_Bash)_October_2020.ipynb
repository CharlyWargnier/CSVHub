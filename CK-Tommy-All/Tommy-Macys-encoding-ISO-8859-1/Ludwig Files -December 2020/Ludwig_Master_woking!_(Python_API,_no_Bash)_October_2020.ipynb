{
  "nbformat": 4,
  "nbformat_minor": 0,
  "metadata": {
    "colab": {
      "name": "Ludwig Master woking! (Python API, no Bash) - October 2020",
      "provenance": [],
      "collapsed_sections": [],
      "toc_visible": true
    },
    "kernelspec": {
      "name": "python3",
      "display_name": "Python 3"
    }
  },
  "cells": [
    {
      "cell_type": "markdown",
      "metadata": {
        "id": "WT3uaEyybhuI"
      },
      "source": [
        "Prog API via Python docs: https://ludwig-ai.github.io/ludwig-docs/api/LudwigModel/"
      ]
    },
    {
      "cell_type": "markdown",
      "metadata": {
        "id": "nKysPGG_oEth"
      },
      "source": [
        "# Install + Import"
      ]
    },
    {
      "cell_type": "code",
      "metadata": {
        "id": "WIWZyi_GFjkK"
      },
      "source": [
        "from IPython.display import clear_output\r\n",
        "!pip install ludwig\r\n",
        "clear_output()\r\n",
        "print('All Installed.')"
      ],
      "execution_count": null,
      "outputs": []
    },
    {
      "cell_type": "code",
      "metadata": {
        "id": "W8WRDCfsWr4i"
      },
      "source": [
        "from ludwig.api import LudwigModel\n",
        "import pandas as pd"
      ],
      "execution_count": 34,
      "outputs": []
    },
    {
      "cell_type": "markdown",
      "metadata": {
        "id": "lGRaf4-KonnR"
      },
      "source": [
        "# Import dataset"
      ]
    },
    {
      "cell_type": "code",
      "metadata": {
        "id": "3HiSlm0bdw1G"
      },
      "source": [
        "\n",
        "#df = pd.read_csv(\"/content/TH_5K_2_COLUMNS_ONLY.csv\")\n",
        "\n",
        "# Old set (contains deupes!)\n",
        "#df = pd.read_csv(\"https://raw.githubusercontent.com/CharlyWargnier/CSVHub/main/Tommy-Macys-encoding-ISO-8859-1/TH_5K_2_COLUMNS_ONLY.csv\")\n",
        "\n",
        "# New sets  Old set (contains deupes!)\n",
        "df = pd.read_csv(\"https://raw.githubusercontent.com/CharlyWargnier/CSVHub/main/CK-Tommy-All/Tommy-Macys-encoding-ISO-8859-1/For%20Ludwig/TH_tagged_deduped_dec_2020.csv\")\n"
      ],
      "execution_count": 71,
      "outputs": []
    },
    {
      "cell_type": "code",
      "metadata": {
        "colab": {
          "base_uri": "https://localhost:8080/"
        },
        "id": "wyPx7evLosWJ",
        "outputId": "2f17366f-6dba-41e2-9bed-1aaa7b8c222c"
      },
      "source": [
        "df.info()\r\n",
        "#df.head()"
      ],
      "execution_count": 72,
      "outputs": [
        {
          "output_type": "stream",
          "text": [
            "<class 'pandas.core.frame.DataFrame'>\n",
            "RangeIndex: 4367 entries, 0 to 4366\n",
            "Data columns (total 2 columns):\n",
            " #   Column    Non-Null Count  Dtype \n",
            "---  ------    --------------  ----- \n",
            " 0   doc_text  4367 non-null   object\n",
            " 1   look-up   4367 non-null   object\n",
            "dtypes: object(2)\n",
            "memory usage: 68.4+ KB\n"
          ],
          "name": "stdout"
        }
      ]
    },
    {
      "cell_type": "code",
      "metadata": {
        "colab": {
          "base_uri": "https://localhost:8080/",
          "height": 197
        },
        "id": "sPFWrCQwyxky",
        "outputId": "67338b19-c070-495a-8e50-3ff17ecd96e5"
      },
      "source": [
        "#df.info()\r\n",
        "df.head()"
      ],
      "execution_count": 73,
      "outputs": [
        {
          "output_type": "execute_result",
          "data": {
            "text/html": [
              "<div>\n",
              "<style scoped>\n",
              "    .dataframe tbody tr th:only-of-type {\n",
              "        vertical-align: middle;\n",
              "    }\n",
              "\n",
              "    .dataframe tbody tr th {\n",
              "        vertical-align: top;\n",
              "    }\n",
              "\n",
              "    .dataframe thead th {\n",
              "        text-align: right;\n",
              "    }\n",
              "</style>\n",
              "<table border=\"1\" class=\"dataframe\">\n",
              "  <thead>\n",
              "    <tr style=\"text-align: right;\">\n",
              "      <th></th>\n",
              "      <th>doc_text</th>\n",
              "      <th>look-up</th>\n",
              "    </tr>\n",
              "  </thead>\n",
              "  <tbody>\n",
              "    <tr>\n",
              "      <th>0</th>\n",
              "      <td>hilfiger wallet</td>\n",
              "      <td>Accessories</td>\n",
              "    </tr>\n",
              "    <tr>\n",
              "      <th>1</th>\n",
              "      <td>Wallet</td>\n",
              "      <td>Accessories</td>\n",
              "    </tr>\n",
              "    <tr>\n",
              "      <th>2</th>\n",
              "      <td>baby boy accessories</td>\n",
              "      <td>Accessories</td>\n",
              "    </tr>\n",
              "    <tr>\n",
              "      <th>3</th>\n",
              "      <td>tie</td>\n",
              "      <td>Accessories</td>\n",
              "    </tr>\n",
              "    <tr>\n",
              "      <th>4</th>\n",
              "      <td>silk scarves</td>\n",
              "      <td>Accessories</td>\n",
              "    </tr>\n",
              "  </tbody>\n",
              "</table>\n",
              "</div>"
            ],
            "text/plain": [
              "               doc_text      look-up\n",
              "0       hilfiger wallet  Accessories\n",
              "1                Wallet  Accessories\n",
              "2  baby boy accessories  Accessories\n",
              "3                   tie  Accessories\n",
              "4          silk scarves  Accessories"
            ]
          },
          "metadata": {
            "tags": []
          },
          "execution_count": 73
        }
      ]
    },
    {
      "cell_type": "markdown",
      "metadata": {
        "id": "7eBJdlwjoB2I"
      },
      "source": [
        "# Define input_features "
      ]
    },
    {
      "cell_type": "code",
      "metadata": {
        "id": "g5btg3fnW9kz"
      },
      "source": [
        "input_features =  [{'name': 'doc_text', 'type': 'text'}]\n",
        "output_features = [{'name': 'look-up', 'type': 'category'}]"
      ],
      "execution_count": 78,
      "outputs": []
    },
    {
      "cell_type": "code",
      "metadata": {
        "id": "20NoI0JWWa-R"
      },
      "source": [
        "config = {\n",
        "    'input_features': input_features,\n",
        "    'output_features': output_features,\n",
        "    'combiner': {'type': 'concat', 'fc_size': 14},\n",
        "    'training': {'epochs': 2}\n",
        "}"
      ],
      "execution_count": 79,
      "outputs": []
    },
    {
      "cell_type": "markdown",
      "metadata": {
        "id": "T17kdN_xoeuj"
      },
      "source": [
        "# Initialise Model"
      ]
    },
    {
      "cell_type": "code",
      "metadata": {
        "id": "OpLC98O9XK7C"
      },
      "source": [
        "model = LudwigModel(config)"
      ],
      "execution_count": 80,
      "outputs": []
    },
    {
      "cell_type": "markdown",
      "metadata": {
        "id": "F8Jq70UZn8jt"
      },
      "source": [
        "# Train a model"
      ]
    },
    {
      "cell_type": "code",
      "metadata": {
        "id": "xFD-7FbLcSlA"
      },
      "source": [
        "train_stats, _, _ = model.train(dataset=df)"
      ],
      "execution_count": 81,
      "outputs": []
    },
    {
      "cell_type": "markdown",
      "metadata": {
        "id": "kqQpmOnbh8LQ"
      },
      "source": [
        "# Eval on DF"
      ]
    },
    {
      "cell_type": "code",
      "metadata": {
        "id": "O-pZzT9Jb5kU"
      },
      "source": [
        "eval_stats, _, _ = model.evaluate(dataset=df)"
      ],
      "execution_count": 47,
      "outputs": []
    },
    {
      "cell_type": "code",
      "metadata": {
        "colab": {
          "base_uri": "https://localhost:8080/"
        },
        "id": "_Weg10DndiA1",
        "outputId": "169b23c5-ef36-4403-d11c-9a44a9e8745c"
      },
      "source": [
        "eval_stats"
      ],
      "execution_count": 48,
      "outputs": [
        {
          "output_type": "execute_result",
          "data": {
            "text/plain": [
              "{'class': {'accuracy': 0.83813524, 'hits_at_k': 0.93517405, 'loss': 0.7149022},\n",
              " 'combined': {'loss': 0.7394655}}"
            ]
          },
          "metadata": {
            "tags": []
          },
          "execution_count": 48
        }
      ]
    },
    {
      "cell_type": "markdown",
      "metadata": {
        "id": "8litRw4QpTxg"
      },
      "source": [
        "# Predict on new dataset"
      ]
    },
    {
      "cell_type": "code",
      "metadata": {
        "id": "xBzLPt4tfZvQ",
        "colab": {
          "base_uri": "https://localhost:8080/"
        },
        "outputId": "796bae2c-f910-456a-9b09-29324ef2e796"
      },
      "source": [
        "# Older set, not deduped\n",
        "#df2 = pd.read_csv(\"https://raw.githubusercontent.com/CharlyWargnier/CSVHub/main/Tommy-Macys-encoding-ISO-8859-1/TH_Control.csv\")\n",
        "\n",
        "# New set, deduped\n",
        "df2 = pd.read_csv(\"https://raw.githubusercontent.com/CharlyWargnier/CSVHub/main/CK-Tommy-All/Tommy-Macys-encoding-ISO-8859-1/For%20Ludwig/TH_NOT_tagged_deduped_dec_2020.csv\")\n",
        "\n",
        "df2.info()\n"
      ],
      "execution_count": 82,
      "outputs": [
        {
          "output_type": "stream",
          "text": [
            "<class 'pandas.core.frame.DataFrame'>\n",
            "RangeIndex: 3607 entries, 0 to 3606\n",
            "Data columns (total 1 columns):\n",
            " #   Column    Non-Null Count  Dtype \n",
            "---  ------    --------------  ----- \n",
            " 0   doc_text  3607 non-null   object\n",
            "dtypes: object(1)\n",
            "memory usage: 28.3+ KB\n"
          ],
          "name": "stdout"
        }
      ]
    },
    {
      "cell_type": "code",
      "metadata": {
        "colab": {
          "base_uri": "https://localhost:8080/",
          "height": 197
        },
        "id": "KuIG1djN3JSB",
        "outputId": "11115dfb-1841-44ab-b403-f9350b160a20"
      },
      "source": [
        "df2.head()"
      ],
      "execution_count": 83,
      "outputs": [
        {
          "output_type": "execute_result",
          "data": {
            "text/html": [
              "<div>\n",
              "<style scoped>\n",
              "    .dataframe tbody tr th:only-of-type {\n",
              "        vertical-align: middle;\n",
              "    }\n",
              "\n",
              "    .dataframe tbody tr th {\n",
              "        vertical-align: top;\n",
              "    }\n",
              "\n",
              "    .dataframe thead th {\n",
              "        text-align: right;\n",
              "    }\n",
              "</style>\n",
              "<table border=\"1\" class=\"dataframe\">\n",
              "  <thead>\n",
              "    <tr style=\"text-align: right;\">\n",
              "      <th></th>\n",
              "      <th>doc_text</th>\n",
              "    </tr>\n",
              "  </thead>\n",
              "  <tbody>\n",
              "    <tr>\n",
              "      <th>0</th>\n",
              "      <td>silk ties</td>\n",
              "    </tr>\n",
              "    <tr>\n",
              "      <th>1</th>\n",
              "      <td>business casual women</td>\n",
              "    </tr>\n",
              "    <tr>\n",
              "      <th>2</th>\n",
              "      <td>platform pumps</td>\n",
              "    </tr>\n",
              "    <tr>\n",
              "      <th>3</th>\n",
              "      <td>Tommy Hilfiger jacket without sleeves</td>\n",
              "    </tr>\n",
              "    <tr>\n",
              "      <th>4</th>\n",
              "      <td>boys leather jacket</td>\n",
              "    </tr>\n",
              "  </tbody>\n",
              "</table>\n",
              "</div>"
            ],
            "text/plain": [
              "                                doc_text\n",
              "0                              silk ties\n",
              "1                  business casual women\n",
              "2                         platform pumps\n",
              "3  Tommy Hilfiger jacket without sleeves\n",
              "4                    boys leather jacket"
            ]
          },
          "metadata": {
            "tags": []
          },
          "execution_count": 83
        }
      ]
    },
    {
      "cell_type": "code",
      "metadata": {
        "id": "sefSLSw9fZRj"
      },
      "source": [
        "predictions, _ = model.predict(dataset=df2)\n",
        "#train_stats, _, _ = model.train(dataset=df)"
      ],
      "execution_count": 84,
      "outputs": []
    },
    {
      "cell_type": "code",
      "metadata": {
        "id": "Vpzf8-8pg9tx",
        "colab": {
          "base_uri": "https://localhost:8080/",
          "height": 142
        },
        "outputId": "ab71ec61-ff5d-49e4-84d5-397c4052f5de"
      },
      "source": [
        "df2.head(3)"
      ],
      "execution_count": null,
      "outputs": [
        {
          "output_type": "execute_result",
          "data": {
            "text/html": [
              "<div>\n",
              "<style scoped>\n",
              "    .dataframe tbody tr th:only-of-type {\n",
              "        vertical-align: middle;\n",
              "    }\n",
              "\n",
              "    .dataframe tbody tr th {\n",
              "        vertical-align: top;\n",
              "    }\n",
              "\n",
              "    .dataframe thead th {\n",
              "        text-align: right;\n",
              "    }\n",
              "</style>\n",
              "<table border=\"1\" class=\"dataframe\">\n",
              "  <thead>\n",
              "    <tr style=\"text-align: right;\">\n",
              "      <th></th>\n",
              "      <th>doc_text</th>\n",
              "    </tr>\n",
              "  </thead>\n",
              "  <tbody>\n",
              "    <tr>\n",
              "      <th>0</th>\n",
              "      <td>silk ties</td>\n",
              "    </tr>\n",
              "    <tr>\n",
              "      <th>1</th>\n",
              "      <td>business casual women</td>\n",
              "    </tr>\n",
              "    <tr>\n",
              "      <th>2</th>\n",
              "      <td>platform pumps</td>\n",
              "    </tr>\n",
              "  </tbody>\n",
              "</table>\n",
              "</div>"
            ],
            "text/plain": [
              "                doc_text\n",
              "0              silk ties\n",
              "1  business casual women\n",
              "2         platform pumps"
            ]
          },
          "metadata": {
            "tags": []
          },
          "execution_count": 30
        }
      ]
    },
    {
      "cell_type": "code",
      "metadata": {
        "id": "fm-KwBlEk-vZ",
        "colab": {
          "base_uri": "https://localhost:8080/",
          "height": 419
        },
        "outputId": "e42ef848-6eb9-4420-c621-447d829e0a7c"
      },
      "source": [
        "df2NewIndex = df2.reset_index()\n",
        "df2NewIndex"
      ],
      "execution_count": null,
      "outputs": [
        {
          "output_type": "execute_result",
          "data": {
            "text/html": [
              "<div>\n",
              "<style scoped>\n",
              "    .dataframe tbody tr th:only-of-type {\n",
              "        vertical-align: middle;\n",
              "    }\n",
              "\n",
              "    .dataframe tbody tr th {\n",
              "        vertical-align: top;\n",
              "    }\n",
              "\n",
              "    .dataframe thead th {\n",
              "        text-align: right;\n",
              "    }\n",
              "</style>\n",
              "<table border=\"1\" class=\"dataframe\">\n",
              "  <thead>\n",
              "    <tr style=\"text-align: right;\">\n",
              "      <th></th>\n",
              "      <th>index</th>\n",
              "      <th>doc_text</th>\n",
              "    </tr>\n",
              "  </thead>\n",
              "  <tbody>\n",
              "    <tr>\n",
              "      <th>0</th>\n",
              "      <td>0</td>\n",
              "      <td>silk ties</td>\n",
              "    </tr>\n",
              "    <tr>\n",
              "      <th>1</th>\n",
              "      <td>1</td>\n",
              "      <td>business casual women</td>\n",
              "    </tr>\n",
              "    <tr>\n",
              "      <th>2</th>\n",
              "      <td>2</td>\n",
              "      <td>platform pumps</td>\n",
              "    </tr>\n",
              "    <tr>\n",
              "      <th>3</th>\n",
              "      <td>3</td>\n",
              "      <td>Tommy Hilfiger jacket without sleeves</td>\n",
              "    </tr>\n",
              "    <tr>\n",
              "      <th>4</th>\n",
              "      <td>4</td>\n",
              "      <td>boys leather jacket</td>\n",
              "    </tr>\n",
              "    <tr>\n",
              "      <th>...</th>\n",
              "      <td>...</td>\n",
              "      <td>...</td>\n",
              "    </tr>\n",
              "    <tr>\n",
              "      <th>5098</th>\n",
              "      <td>5098</td>\n",
              "      <td>pant</td>\n",
              "    </tr>\n",
              "    <tr>\n",
              "      <th>5099</th>\n",
              "      <td>5099</td>\n",
              "      <td>bikini girl</td>\n",
              "    </tr>\n",
              "    <tr>\n",
              "      <th>5100</th>\n",
              "      <td>5100</td>\n",
              "      <td>men briefs</td>\n",
              "    </tr>\n",
              "    <tr>\n",
              "      <th>5101</th>\n",
              "      <td>5101</td>\n",
              "      <td>men's socks</td>\n",
              "    </tr>\n",
              "    <tr>\n",
              "      <th>5102</th>\n",
              "      <td>5102</td>\n",
              "      <td>woman online</td>\n",
              "    </tr>\n",
              "  </tbody>\n",
              "</table>\n",
              "<p>5103 rows × 2 columns</p>\n",
              "</div>"
            ],
            "text/plain": [
              "      index                               doc_text\n",
              "0         0                              silk ties\n",
              "1         1                  business casual women\n",
              "2         2                         platform pumps\n",
              "3         3  Tommy Hilfiger jacket without sleeves\n",
              "4         4                    boys leather jacket\n",
              "...     ...                                    ...\n",
              "5098   5098                                   pant\n",
              "5099   5099                            bikini girl\n",
              "5100   5100                             men briefs\n",
              "5101   5101                            men's socks\n",
              "5102   5102                           woman online\n",
              "\n",
              "[5103 rows x 2 columns]"
            ]
          },
          "metadata": {
            "tags": []
          },
          "execution_count": 11
        }
      ]
    },
    {
      "cell_type": "markdown",
      "metadata": {
        "id": "7qkRLCaOh4ta"
      },
      "source": [
        "# Predict on new dataset"
      ]
    },
    {
      "cell_type": "code",
      "metadata": {
        "id": "sQcqkvEggccx",
        "colab": {
          "base_uri": "https://localhost:8080/",
          "height": 460
        },
        "outputId": "ab92b75a-7ab0-4ee3-8d40-26322baa7ac8"
      },
      "source": [
        "predictions"
      ],
      "execution_count": 85,
      "outputs": [
        {
          "output_type": "execute_result",
          "data": {
            "text/html": [
              "<div>\n",
              "<style scoped>\n",
              "    .dataframe tbody tr th:only-of-type {\n",
              "        vertical-align: middle;\n",
              "    }\n",
              "\n",
              "    .dataframe tbody tr th {\n",
              "        vertical-align: top;\n",
              "    }\n",
              "\n",
              "    .dataframe thead th {\n",
              "        text-align: right;\n",
              "    }\n",
              "</style>\n",
              "<table border=\"1\" class=\"dataframe\">\n",
              "  <thead>\n",
              "    <tr style=\"text-align: right;\">\n",
              "      <th></th>\n",
              "      <th>look-up_predictions</th>\n",
              "      <th>look-up_probabilities_&lt;UNK&gt;</th>\n",
              "      <th>look-up_probabilities_Shoes</th>\n",
              "      <th>look-up_probabilities_Coats &amp; Jackets</th>\n",
              "      <th>look-up_probabilities_Accessories</th>\n",
              "      <th>look-up_probabilities_Bags</th>\n",
              "      <th>look-up_probabilities_Jumpers &amp; Hoodies</th>\n",
              "      <th>look-up_probabilities_Trousers</th>\n",
              "      <th>look-up_probabilities_Jeans</th>\n",
              "      <th>look-up_probabilities_Dresses &amp; Skirts</th>\n",
              "      <th>look-up_probabilities_Watches &amp; Jewellery</th>\n",
              "      <th>look-up_probabilities_Clothes</th>\n",
              "      <th>look-up_probabilities_Underwear</th>\n",
              "      <th>look-up_probabilities_Shirts &amp; Blouses</th>\n",
              "      <th>look-up_probabilities_Swimwear</th>\n",
              "      <th>look-up_probabilities_Nightwear &amp; Loungewear</th>\n",
              "      <th>look-up_probabilities_Suits &amp; Blazers</th>\n",
              "      <th>look-up_probabilities_T Shirts</th>\n",
              "      <th>look-up_probabilities_Tops</th>\n",
              "      <th>look-up_probabilities_Polos</th>\n",
              "      <th>look-up_probabilities_Socks &amp; Tights</th>\n",
              "      <th>look-up_probabilities_Fragrances</th>\n",
              "      <th>look-up_probabilities_Sale</th>\n",
              "      <th>look-up_probabilities_tops</th>\n",
              "      <th>look-up_probability</th>\n",
              "    </tr>\n",
              "  </thead>\n",
              "  <tbody>\n",
              "    <tr>\n",
              "      <th>0</th>\n",
              "      <td>Accessories</td>\n",
              "      <td>6.598110e-05</td>\n",
              "      <td>4.254679e-03</td>\n",
              "      <td>0.016641</td>\n",
              "      <td>0.560594</td>\n",
              "      <td>0.019632</td>\n",
              "      <td>0.060178</td>\n",
              "      <td>0.015016</td>\n",
              "      <td>4.492733e-04</td>\n",
              "      <td>2.114855e-02</td>\n",
              "      <td>0.027199</td>\n",
              "      <td>0.042336</td>\n",
              "      <td>0.071915</td>\n",
              "      <td>0.009435</td>\n",
              "      <td>0.020645</td>\n",
              "      <td>0.020766</td>\n",
              "      <td>0.084391</td>\n",
              "      <td>0.004860</td>\n",
              "      <td>0.010942</td>\n",
              "      <td>4.011965e-03</td>\n",
              "      <td>3.323863e-03</td>\n",
              "      <td>1.170407e-03</td>\n",
              "      <td>9.317041e-04</td>\n",
              "      <td>9.673543e-05</td>\n",
              "      <td>0.560594</td>\n",
              "    </tr>\n",
              "    <tr>\n",
              "      <th>1</th>\n",
              "      <td>Clothes</td>\n",
              "      <td>1.785070e-04</td>\n",
              "      <td>6.984029e-02</td>\n",
              "      <td>0.008571</td>\n",
              "      <td>0.054453</td>\n",
              "      <td>0.048502</td>\n",
              "      <td>0.074126</td>\n",
              "      <td>0.012831</td>\n",
              "      <td>5.830013e-03</td>\n",
              "      <td>2.785752e-02</td>\n",
              "      <td>0.099212</td>\n",
              "      <td>0.225288</td>\n",
              "      <td>0.092998</td>\n",
              "      <td>0.036293</td>\n",
              "      <td>0.031069</td>\n",
              "      <td>0.056748</td>\n",
              "      <td>0.067355</td>\n",
              "      <td>0.029477</td>\n",
              "      <td>0.030283</td>\n",
              "      <td>1.359932e-02</td>\n",
              "      <td>7.402698e-03</td>\n",
              "      <td>5.797375e-03</td>\n",
              "      <td>1.804942e-03</td>\n",
              "      <td>4.831958e-04</td>\n",
              "      <td>0.225288</td>\n",
              "    </tr>\n",
              "    <tr>\n",
              "      <th>2</th>\n",
              "      <td>Shoes</td>\n",
              "      <td>1.217076e-05</td>\n",
              "      <td>7.660506e-01</td>\n",
              "      <td>0.003755</td>\n",
              "      <td>0.015714</td>\n",
              "      <td>0.008069</td>\n",
              "      <td>0.011773</td>\n",
              "      <td>0.001369</td>\n",
              "      <td>9.495406e-04</td>\n",
              "      <td>3.528813e-03</td>\n",
              "      <td>0.026646</td>\n",
              "      <td>0.048929</td>\n",
              "      <td>0.033394</td>\n",
              "      <td>0.006254</td>\n",
              "      <td>0.006113</td>\n",
              "      <td>0.025221</td>\n",
              "      <td>0.016717</td>\n",
              "      <td>0.008374</td>\n",
              "      <td>0.011726</td>\n",
              "      <td>2.849341e-03</td>\n",
              "      <td>1.172859e-03</td>\n",
              "      <td>1.022170e-03</td>\n",
              "      <td>3.160334e-04</td>\n",
              "      <td>4.254513e-05</td>\n",
              "      <td>0.766051</td>\n",
              "    </tr>\n",
              "    <tr>\n",
              "      <th>3</th>\n",
              "      <td>Coats &amp; Jackets</td>\n",
              "      <td>4.218798e-11</td>\n",
              "      <td>6.668276e-06</td>\n",
              "      <td>0.942469</td>\n",
              "      <td>0.022808</td>\n",
              "      <td>0.000018</td>\n",
              "      <td>0.000065</td>\n",
              "      <td>0.000011</td>\n",
              "      <td>1.377095e-08</td>\n",
              "      <td>2.747269e-06</td>\n",
              "      <td>0.000025</td>\n",
              "      <td>0.000130</td>\n",
              "      <td>0.000035</td>\n",
              "      <td>0.000037</td>\n",
              "      <td>0.000016</td>\n",
              "      <td>0.000065</td>\n",
              "      <td>0.034237</td>\n",
              "      <td>0.000039</td>\n",
              "      <td>0.000027</td>\n",
              "      <td>5.502553e-06</td>\n",
              "      <td>2.200647e-06</td>\n",
              "      <td>3.299997e-08</td>\n",
              "      <td>4.574310e-08</td>\n",
              "      <td>5.466408e-11</td>\n",
              "      <td>0.942469</td>\n",
              "    </tr>\n",
              "    <tr>\n",
              "      <th>4</th>\n",
              "      <td>Coats &amp; Jackets</td>\n",
              "      <td>2.597172e-12</td>\n",
              "      <td>2.151747e-07</td>\n",
              "      <td>0.978767</td>\n",
              "      <td>0.014126</td>\n",
              "      <td>0.000020</td>\n",
              "      <td>0.000007</td>\n",
              "      <td>0.000002</td>\n",
              "      <td>6.582651e-10</td>\n",
              "      <td>8.052388e-07</td>\n",
              "      <td>0.000003</td>\n",
              "      <td>0.000012</td>\n",
              "      <td>0.000005</td>\n",
              "      <td>0.000005</td>\n",
              "      <td>0.000002</td>\n",
              "      <td>0.000008</td>\n",
              "      <td>0.007037</td>\n",
              "      <td>0.000003</td>\n",
              "      <td>0.000002</td>\n",
              "      <td>4.279447e-07</td>\n",
              "      <td>6.390925e-07</td>\n",
              "      <td>1.990549e-09</td>\n",
              "      <td>3.761717e-09</td>\n",
              "      <td>3.172649e-12</td>\n",
              "      <td>0.978767</td>\n",
              "    </tr>\n",
              "    <tr>\n",
              "      <th>...</th>\n",
              "      <td>...</td>\n",
              "      <td>...</td>\n",
              "      <td>...</td>\n",
              "      <td>...</td>\n",
              "      <td>...</td>\n",
              "      <td>...</td>\n",
              "      <td>...</td>\n",
              "      <td>...</td>\n",
              "      <td>...</td>\n",
              "      <td>...</td>\n",
              "      <td>...</td>\n",
              "      <td>...</td>\n",
              "      <td>...</td>\n",
              "      <td>...</td>\n",
              "      <td>...</td>\n",
              "      <td>...</td>\n",
              "      <td>...</td>\n",
              "      <td>...</td>\n",
              "      <td>...</td>\n",
              "      <td>...</td>\n",
              "      <td>...</td>\n",
              "      <td>...</td>\n",
              "      <td>...</td>\n",
              "      <td>...</td>\n",
              "      <td>...</td>\n",
              "    </tr>\n",
              "    <tr>\n",
              "      <th>3602</th>\n",
              "      <td>Shoes</td>\n",
              "      <td>8.007650e-09</td>\n",
              "      <td>9.495112e-01</td>\n",
              "      <td>0.000159</td>\n",
              "      <td>0.009045</td>\n",
              "      <td>0.001820</td>\n",
              "      <td>0.002302</td>\n",
              "      <td>0.000062</td>\n",
              "      <td>2.892750e-06</td>\n",
              "      <td>9.515817e-05</td>\n",
              "      <td>0.004374</td>\n",
              "      <td>0.010481</td>\n",
              "      <td>0.012836</td>\n",
              "      <td>0.000203</td>\n",
              "      <td>0.000558</td>\n",
              "      <td>0.003517</td>\n",
              "      <td>0.003978</td>\n",
              "      <td>0.000154</td>\n",
              "      <td>0.000824</td>\n",
              "      <td>4.011054e-05</td>\n",
              "      <td>2.335559e-05</td>\n",
              "      <td>1.531739e-05</td>\n",
              "      <td>1.793643e-06</td>\n",
              "      <td>5.465570e-08</td>\n",
              "      <td>0.949511</td>\n",
              "    </tr>\n",
              "    <tr>\n",
              "      <th>3603</th>\n",
              "      <td>Clothes</td>\n",
              "      <td>1.016148e-04</td>\n",
              "      <td>3.505655e-02</td>\n",
              "      <td>0.006491</td>\n",
              "      <td>0.102543</td>\n",
              "      <td>0.021612</td>\n",
              "      <td>0.112182</td>\n",
              "      <td>0.021108</td>\n",
              "      <td>3.806153e-03</td>\n",
              "      <td>7.327265e-03</td>\n",
              "      <td>0.053019</td>\n",
              "      <td>0.184640</td>\n",
              "      <td>0.123342</td>\n",
              "      <td>0.031381</td>\n",
              "      <td>0.057137</td>\n",
              "      <td>0.049133</td>\n",
              "      <td>0.108854</td>\n",
              "      <td>0.032641</td>\n",
              "      <td>0.030991</td>\n",
              "      <td>9.774677e-03</td>\n",
              "      <td>4.074001e-03</td>\n",
              "      <td>3.574534e-03</td>\n",
              "      <td>9.937532e-04</td>\n",
              "      <td>2.176245e-04</td>\n",
              "      <td>0.184640</td>\n",
              "    </tr>\n",
              "    <tr>\n",
              "      <th>3604</th>\n",
              "      <td>Accessories</td>\n",
              "      <td>2.067496e-03</td>\n",
              "      <td>1.026048e-02</td>\n",
              "      <td>0.039366</td>\n",
              "      <td>0.148953</td>\n",
              "      <td>0.082608</td>\n",
              "      <td>0.106896</td>\n",
              "      <td>0.070076</td>\n",
              "      <td>7.736082e-03</td>\n",
              "      <td>5.026463e-02</td>\n",
              "      <td>0.053133</td>\n",
              "      <td>0.047933</td>\n",
              "      <td>0.071547</td>\n",
              "      <td>0.029258</td>\n",
              "      <td>0.042522</td>\n",
              "      <td>0.042999</td>\n",
              "      <td>0.097525</td>\n",
              "      <td>0.017666</td>\n",
              "      <td>0.022897</td>\n",
              "      <td>1.737921e-02</td>\n",
              "      <td>2.018095e-02</td>\n",
              "      <td>9.104437e-03</td>\n",
              "      <td>6.997559e-03</td>\n",
              "      <td>2.631373e-03</td>\n",
              "      <td>0.148953</td>\n",
              "    </tr>\n",
              "    <tr>\n",
              "      <th>3605</th>\n",
              "      <td>Underwear</td>\n",
              "      <td>1.251679e-03</td>\n",
              "      <td>2.823440e-02</td>\n",
              "      <td>0.009541</td>\n",
              "      <td>0.092010</td>\n",
              "      <td>0.048878</td>\n",
              "      <td>0.059979</td>\n",
              "      <td>0.025307</td>\n",
              "      <td>6.409441e-03</td>\n",
              "      <td>2.547472e-02</td>\n",
              "      <td>0.085076</td>\n",
              "      <td>0.107467</td>\n",
              "      <td>0.220876</td>\n",
              "      <td>0.034603</td>\n",
              "      <td>0.045847</td>\n",
              "      <td>0.049640</td>\n",
              "      <td>0.052995</td>\n",
              "      <td>0.028865</td>\n",
              "      <td>0.031143</td>\n",
              "      <td>1.587561e-02</td>\n",
              "      <td>1.273068e-02</td>\n",
              "      <td>9.362883e-03</td>\n",
              "      <td>6.080861e-03</td>\n",
              "      <td>2.351676e-03</td>\n",
              "      <td>0.220876</td>\n",
              "    </tr>\n",
              "    <tr>\n",
              "      <th>3606</th>\n",
              "      <td>Clothes</td>\n",
              "      <td>1.714679e-03</td>\n",
              "      <td>2.879358e-02</td>\n",
              "      <td>0.027554</td>\n",
              "      <td>0.095959</td>\n",
              "      <td>0.029037</td>\n",
              "      <td>0.078706</td>\n",
              "      <td>0.040743</td>\n",
              "      <td>8.109199e-03</td>\n",
              "      <td>2.081224e-02</td>\n",
              "      <td>0.087436</td>\n",
              "      <td>0.111010</td>\n",
              "      <td>0.099922</td>\n",
              "      <td>0.044609</td>\n",
              "      <td>0.049799</td>\n",
              "      <td>0.051512</td>\n",
              "      <td>0.089645</td>\n",
              "      <td>0.036187</td>\n",
              "      <td>0.036945</td>\n",
              "      <td>2.503325e-02</td>\n",
              "      <td>1.480593e-02</td>\n",
              "      <td>1.127526e-02</td>\n",
              "      <td>7.520939e-03</td>\n",
              "      <td>2.872156e-03</td>\n",
              "      <td>0.111010</td>\n",
              "    </tr>\n",
              "  </tbody>\n",
              "</table>\n",
              "<p>3607 rows × 25 columns</p>\n",
              "</div>"
            ],
            "text/plain": [
              "     look-up_predictions  ...  look-up_probability\n",
              "0            Accessories  ...             0.560594\n",
              "1                Clothes  ...             0.225288\n",
              "2                  Shoes  ...             0.766051\n",
              "3        Coats & Jackets  ...             0.942469\n",
              "4        Coats & Jackets  ...             0.978767\n",
              "...                  ...  ...                  ...\n",
              "3602               Shoes  ...             0.949511\n",
              "3603             Clothes  ...             0.184640\n",
              "3604         Accessories  ...             0.148953\n",
              "3605           Underwear  ...             0.220876\n",
              "3606             Clothes  ...             0.111010\n",
              "\n",
              "[3607 rows x 25 columns]"
            ]
          },
          "metadata": {
            "tags": []
          },
          "execution_count": 85
        }
      ]
    },
    {
      "cell_type": "code",
      "metadata": {
        "id": "VfVisJvcYVMA"
      },
      "source": [
        "predictions.to_csv(\"predictions.csv\", index=False)"
      ],
      "execution_count": 86,
      "outputs": []
    },
    {
      "cell_type": "code",
      "metadata": {
        "id": "ctcqzV8wklgK",
        "colab": {
          "base_uri": "https://localhost:8080/",
          "height": 175
        },
        "outputId": "0140733a-8131-463f-9935-1a7c09113be3"
      },
      "source": [
        "predictionsNewIndex = predictions.reset_index()\n",
        "predictionsNewIndex.head(3)"
      ],
      "execution_count": null,
      "outputs": [
        {
          "output_type": "execute_result",
          "data": {
            "text/html": [
              "<div>\n",
              "<style scoped>\n",
              "    .dataframe tbody tr th:only-of-type {\n",
              "        vertical-align: middle;\n",
              "    }\n",
              "\n",
              "    .dataframe tbody tr th {\n",
              "        vertical-align: top;\n",
              "    }\n",
              "\n",
              "    .dataframe thead th {\n",
              "        text-align: right;\n",
              "    }\n",
              "</style>\n",
              "<table border=\"1\" class=\"dataframe\">\n",
              "  <thead>\n",
              "    <tr style=\"text-align: right;\">\n",
              "      <th></th>\n",
              "      <th>index</th>\n",
              "      <th>class_predictions</th>\n",
              "      <th>class_probabilities_&lt;UNK&gt;</th>\n",
              "      <th>class_probabilities_Shoes</th>\n",
              "      <th>class_probabilities_Coats &amp; Jackets</th>\n",
              "      <th>class_probabilities_Accessories</th>\n",
              "      <th>class_probabilities_Jumpers &amp; Hoodies</th>\n",
              "      <th>class_probabilities_Trousers</th>\n",
              "      <th>class_probabilities_Bags</th>\n",
              "      <th>class_probabilities_Jeans</th>\n",
              "      <th>class_probabilities_Watches &amp; Jewellery</th>\n",
              "      <th>class_probabilities_Dresses &amp; Skirts</th>\n",
              "      <th>class_probabilities_Clothes</th>\n",
              "      <th>class_probabilities_Underwear</th>\n",
              "      <th>class_probabilities_Shirts &amp; Blouses</th>\n",
              "      <th>class_probabilities_Swimwear</th>\n",
              "      <th>class_probabilities_Nightwear &amp; Loungewear</th>\n",
              "      <th>class_probabilities_Suits &amp; Blazers</th>\n",
              "      <th>class_probabilities_T Shirts</th>\n",
              "      <th>class_probabilities_Tops</th>\n",
              "      <th>class_probabilities_Polos</th>\n",
              "      <th>class_probabilities_Socks &amp; Tights</th>\n",
              "      <th>class_probabilities_Fragrances</th>\n",
              "      <th>class_probabilities_Sale</th>\n",
              "      <th>class_probabilities_tops</th>\n",
              "      <th>class_probability</th>\n",
              "    </tr>\n",
              "  </thead>\n",
              "  <tbody>\n",
              "    <tr>\n",
              "      <th>0</th>\n",
              "      <td>0</td>\n",
              "      <td>Accessories</td>\n",
              "      <td>0.000625</td>\n",
              "      <td>0.032887</td>\n",
              "      <td>0.078805</td>\n",
              "      <td>0.223043</td>\n",
              "      <td>0.078157</td>\n",
              "      <td>0.026866</td>\n",
              "      <td>0.038569</td>\n",
              "      <td>0.007072</td>\n",
              "      <td>0.071959</td>\n",
              "      <td>0.074964</td>\n",
              "      <td>0.084937</td>\n",
              "      <td>0.073918</td>\n",
              "      <td>0.015406</td>\n",
              "      <td>0.042341</td>\n",
              "      <td>0.035547</td>\n",
              "      <td>0.034357</td>\n",
              "      <td>0.028702</td>\n",
              "      <td>0.016835</td>\n",
              "      <td>0.015355</td>\n",
              "      <td>0.011718</td>\n",
              "      <td>0.005046</td>\n",
              "      <td>0.002152</td>\n",
              "      <td>0.000741</td>\n",
              "      <td>0.223043</td>\n",
              "    </tr>\n",
              "    <tr>\n",
              "      <th>1</th>\n",
              "      <td>1</td>\n",
              "      <td>Accessories</td>\n",
              "      <td>0.000459</td>\n",
              "      <td>0.041190</td>\n",
              "      <td>0.083654</td>\n",
              "      <td>0.220860</td>\n",
              "      <td>0.058572</td>\n",
              "      <td>0.032135</td>\n",
              "      <td>0.036956</td>\n",
              "      <td>0.003313</td>\n",
              "      <td>0.082532</td>\n",
              "      <td>0.080022</td>\n",
              "      <td>0.088849</td>\n",
              "      <td>0.062518</td>\n",
              "      <td>0.019398</td>\n",
              "      <td>0.036421</td>\n",
              "      <td>0.031962</td>\n",
              "      <td>0.037578</td>\n",
              "      <td>0.033409</td>\n",
              "      <td>0.018636</td>\n",
              "      <td>0.014860</td>\n",
              "      <td>0.009542</td>\n",
              "      <td>0.004350</td>\n",
              "      <td>0.002142</td>\n",
              "      <td>0.000643</td>\n",
              "      <td>0.220860</td>\n",
              "    </tr>\n",
              "    <tr>\n",
              "      <th>2</th>\n",
              "      <td>2</td>\n",
              "      <td>Shoes</td>\n",
              "      <td>0.000027</td>\n",
              "      <td>0.900638</td>\n",
              "      <td>0.000400</td>\n",
              "      <td>0.009487</td>\n",
              "      <td>0.011081</td>\n",
              "      <td>0.012448</td>\n",
              "      <td>0.005236</td>\n",
              "      <td>0.001161</td>\n",
              "      <td>0.006602</td>\n",
              "      <td>0.016330</td>\n",
              "      <td>0.005791</td>\n",
              "      <td>0.014016</td>\n",
              "      <td>0.001455</td>\n",
              "      <td>0.002591</td>\n",
              "      <td>0.003895</td>\n",
              "      <td>0.003509</td>\n",
              "      <td>0.002070</td>\n",
              "      <td>0.001390</td>\n",
              "      <td>0.000712</td>\n",
              "      <td>0.000418</td>\n",
              "      <td>0.000650</td>\n",
              "      <td>0.000052</td>\n",
              "      <td>0.000039</td>\n",
              "      <td>0.900638</td>\n",
              "    </tr>\n",
              "  </tbody>\n",
              "</table>\n",
              "</div>"
            ],
            "text/plain": [
              "   index class_predictions  ...  class_probabilities_tops  class_probability\n",
              "0      0       Accessories  ...                  0.000741           0.223043\n",
              "1      1       Accessories  ...                  0.000643           0.220860\n",
              "2      2             Shoes  ...                  0.000039           0.900638\n",
              "\n",
              "[3 rows x 26 columns]"
            ]
          },
          "metadata": {
            "tags": []
          },
          "execution_count": 26
        }
      ]
    },
    {
      "cell_type": "code",
      "metadata": {
        "id": "XGB5448BlT4d",
        "colab": {
          "base_uri": "https://localhost:8080/",
          "height": 391
        },
        "outputId": "450f9ecf-9eef-4e2e-e6ab-0102a42b1f13"
      },
      "source": [
        "dfMerge = df2NewIndex.merge(predictionsNewIndex, left_on='index', right_on='index')\n",
        "dfMerge.head(5)\n"
      ],
      "execution_count": null,
      "outputs": [
        {
          "output_type": "execute_result",
          "data": {
            "text/html": [
              "<div>\n",
              "<style scoped>\n",
              "    .dataframe tbody tr th:only-of-type {\n",
              "        vertical-align: middle;\n",
              "    }\n",
              "\n",
              "    .dataframe tbody tr th {\n",
              "        vertical-align: top;\n",
              "    }\n",
              "\n",
              "    .dataframe thead th {\n",
              "        text-align: right;\n",
              "    }\n",
              "</style>\n",
              "<table border=\"1\" class=\"dataframe\">\n",
              "  <thead>\n",
              "    <tr style=\"text-align: right;\">\n",
              "      <th></th>\n",
              "      <th>index</th>\n",
              "      <th>doc_text</th>\n",
              "      <th>class_predictions</th>\n",
              "      <th>class_probabilities_&lt;UNK&gt;</th>\n",
              "      <th>class_probabilities_Shoes</th>\n",
              "      <th>class_probabilities_Coats &amp; Jackets</th>\n",
              "      <th>class_probabilities_Accessories</th>\n",
              "      <th>class_probabilities_Jumpers &amp; Hoodies</th>\n",
              "      <th>class_probabilities_Trousers</th>\n",
              "      <th>class_probabilities_Bags</th>\n",
              "      <th>class_probabilities_Jeans</th>\n",
              "      <th>class_probabilities_Watches &amp; Jewellery</th>\n",
              "      <th>class_probabilities_Dresses &amp; Skirts</th>\n",
              "      <th>class_probabilities_Clothes</th>\n",
              "      <th>class_probabilities_Underwear</th>\n",
              "      <th>class_probabilities_Shirts &amp; Blouses</th>\n",
              "      <th>class_probabilities_Swimwear</th>\n",
              "      <th>class_probabilities_Nightwear &amp; Loungewear</th>\n",
              "      <th>class_probabilities_Suits &amp; Blazers</th>\n",
              "      <th>class_probabilities_T Shirts</th>\n",
              "      <th>class_probabilities_Tops</th>\n",
              "      <th>class_probabilities_Polos</th>\n",
              "      <th>class_probabilities_Socks &amp; Tights</th>\n",
              "      <th>class_probabilities_Fragrances</th>\n",
              "      <th>class_probabilities_Sale</th>\n",
              "      <th>class_probabilities_tops</th>\n",
              "      <th>class_probability</th>\n",
              "    </tr>\n",
              "  </thead>\n",
              "  <tbody>\n",
              "    <tr>\n",
              "      <th>0</th>\n",
              "      <td>0</td>\n",
              "      <td>silk ties</td>\n",
              "      <td>Accessories</td>\n",
              "      <td>6.249013e-04</td>\n",
              "      <td>3.288659e-02</td>\n",
              "      <td>0.078805</td>\n",
              "      <td>0.223043</td>\n",
              "      <td>0.078157</td>\n",
              "      <td>2.686641e-02</td>\n",
              "      <td>0.038569</td>\n",
              "      <td>7.071799e-03</td>\n",
              "      <td>7.195891e-02</td>\n",
              "      <td>0.074964</td>\n",
              "      <td>0.084937</td>\n",
              "      <td>7.391839e-02</td>\n",
              "      <td>1.540601e-02</td>\n",
              "      <td>0.042341</td>\n",
              "      <td>3.554669e-02</td>\n",
              "      <td>0.034357</td>\n",
              "      <td>0.028702</td>\n",
              "      <td>1.683508e-02</td>\n",
              "      <td>1.535473e-02</td>\n",
              "      <td>1.171771e-02</td>\n",
              "      <td>5.045517e-03</td>\n",
              "      <td>2.151584e-03</td>\n",
              "      <td>7.407891e-04</td>\n",
              "      <td>0.223043</td>\n",
              "    </tr>\n",
              "    <tr>\n",
              "      <th>1</th>\n",
              "      <td>1</td>\n",
              "      <td>business casual women</td>\n",
              "      <td>Accessories</td>\n",
              "      <td>4.593089e-04</td>\n",
              "      <td>4.119008e-02</td>\n",
              "      <td>0.083654</td>\n",
              "      <td>0.220860</td>\n",
              "      <td>0.058572</td>\n",
              "      <td>3.213517e-02</td>\n",
              "      <td>0.036956</td>\n",
              "      <td>3.312742e-03</td>\n",
              "      <td>8.253205e-02</td>\n",
              "      <td>0.080022</td>\n",
              "      <td>0.088849</td>\n",
              "      <td>6.251766e-02</td>\n",
              "      <td>1.939773e-02</td>\n",
              "      <td>0.036421</td>\n",
              "      <td>3.196198e-02</td>\n",
              "      <td>0.037578</td>\n",
              "      <td>0.033409</td>\n",
              "      <td>1.863554e-02</td>\n",
              "      <td>1.485994e-02</td>\n",
              "      <td>9.541855e-03</td>\n",
              "      <td>4.349868e-03</td>\n",
              "      <td>2.142389e-03</td>\n",
              "      <td>6.432433e-04</td>\n",
              "      <td>0.220860</td>\n",
              "    </tr>\n",
              "    <tr>\n",
              "      <th>2</th>\n",
              "      <td>2</td>\n",
              "      <td>platform pumps</td>\n",
              "      <td>Shoes</td>\n",
              "      <td>2.749295e-05</td>\n",
              "      <td>9.006376e-01</td>\n",
              "      <td>0.000400</td>\n",
              "      <td>0.009487</td>\n",
              "      <td>0.011081</td>\n",
              "      <td>1.244806e-02</td>\n",
              "      <td>0.005236</td>\n",
              "      <td>1.161294e-03</td>\n",
              "      <td>6.602406e-03</td>\n",
              "      <td>0.016330</td>\n",
              "      <td>0.005791</td>\n",
              "      <td>1.401559e-02</td>\n",
              "      <td>1.455084e-03</td>\n",
              "      <td>0.002591</td>\n",
              "      <td>3.895276e-03</td>\n",
              "      <td>0.003509</td>\n",
              "      <td>0.002070</td>\n",
              "      <td>1.390227e-03</td>\n",
              "      <td>7.122188e-04</td>\n",
              "      <td>4.181551e-04</td>\n",
              "      <td>6.496859e-04</td>\n",
              "      <td>5.247804e-05</td>\n",
              "      <td>3.869831e-05</td>\n",
              "      <td>0.900638</td>\n",
              "    </tr>\n",
              "    <tr>\n",
              "      <th>3</th>\n",
              "      <td>3</td>\n",
              "      <td>Tommy Hilfiger jacket without sleeves</td>\n",
              "      <td>Coats &amp; Jackets</td>\n",
              "      <td>1.887813e-11</td>\n",
              "      <td>1.503874e-06</td>\n",
              "      <td>0.998773</td>\n",
              "      <td>0.001058</td>\n",
              "      <td>0.000049</td>\n",
              "      <td>2.390759e-07</td>\n",
              "      <td>0.000024</td>\n",
              "      <td>5.240196e-09</td>\n",
              "      <td>4.769067e-06</td>\n",
              "      <td>0.000006</td>\n",
              "      <td>0.000023</td>\n",
              "      <td>7.063095e-06</td>\n",
              "      <td>2.675778e-06</td>\n",
              "      <td>0.000008</td>\n",
              "      <td>2.799825e-06</td>\n",
              "      <td>0.000021</td>\n",
              "      <td>0.000014</td>\n",
              "      <td>1.609102e-06</td>\n",
              "      <td>1.472294e-06</td>\n",
              "      <td>6.937678e-07</td>\n",
              "      <td>6.735118e-09</td>\n",
              "      <td>6.256699e-09</td>\n",
              "      <td>1.110015e-10</td>\n",
              "      <td>0.998773</td>\n",
              "    </tr>\n",
              "    <tr>\n",
              "      <th>4</th>\n",
              "      <td>4</td>\n",
              "      <td>boys leather jacket</td>\n",
              "      <td>Coats &amp; Jackets</td>\n",
              "      <td>2.235257e-12</td>\n",
              "      <td>1.099836e-07</td>\n",
              "      <td>0.999610</td>\n",
              "      <td>0.000348</td>\n",
              "      <td>0.000011</td>\n",
              "      <td>4.767807e-08</td>\n",
              "      <td>0.000012</td>\n",
              "      <td>8.231898e-10</td>\n",
              "      <td>9.558139e-07</td>\n",
              "      <td>0.000001</td>\n",
              "      <td>0.000005</td>\n",
              "      <td>9.318800e-07</td>\n",
              "      <td>7.409853e-07</td>\n",
              "      <td>0.000002</td>\n",
              "      <td>5.197642e-07</td>\n",
              "      <td>0.000005</td>\n",
              "      <td>0.000003</td>\n",
              "      <td>3.058915e-07</td>\n",
              "      <td>3.601159e-07</td>\n",
              "      <td>2.057534e-07</td>\n",
              "      <td>8.599733e-10</td>\n",
              "      <td>1.055993e-09</td>\n",
              "      <td>1.411791e-11</td>\n",
              "      <td>0.999610</td>\n",
              "    </tr>\n",
              "  </tbody>\n",
              "</table>\n",
              "</div>"
            ],
            "text/plain": [
              "   index  ... class_probability\n",
              "0      0  ...          0.223043\n",
              "1      1  ...          0.220860\n",
              "2      2  ...          0.900638\n",
              "3      3  ...          0.998773\n",
              "4      4  ...          0.999610\n",
              "\n",
              "[5 rows x 27 columns]"
            ]
          },
          "metadata": {
            "tags": []
          },
          "execution_count": 28
        }
      ]
    },
    {
      "cell_type": "code",
      "metadata": {
        "id": "xRtbRJhxlT0M"
      },
      "source": [
        "dfMerge.to_csv('export.csv')"
      ],
      "execution_count": null,
      "outputs": []
    },
    {
      "cell_type": "code",
      "metadata": {
        "id": "I-xM1E7yggOJ"
      },
      "source": [
        "type(predictions)"
      ],
      "execution_count": null,
      "outputs": []
    },
    {
      "cell_type": "code",
      "metadata": {
        "id": "9gh_xar-gCXg"
      },
      "source": [
        "eval_stats, _, _ = model.evaluate(dataset=df)\n",
        "eval_stats, _, _\n"
      ],
      "execution_count": null,
      "outputs": []
    },
    {
      "cell_type": "code",
      "metadata": {
        "id": "xgcTFOCcrDnx"
      },
      "source": [
        "type(eval_stats)"
      ],
      "execution_count": null,
      "outputs": []
    },
    {
      "cell_type": "code",
      "metadata": {
        "id": "a-_8dLjSrKUd"
      },
      "source": [
        "dfResults = pd.DataFrame.from_dict(eval_stats)\n",
        "dfResults"
      ],
      "execution_count": null,
      "outputs": []
    },
    {
      "cell_type": "markdown",
      "metadata": {
        "id": "GCjohLNBp0-6"
      },
      "source": [
        "#Parked data"
      ]
    },
    {
      "cell_type": "code",
      "metadata": {
        "id": "TFcA3eFnPdib"
      },
      "source": [
        "'''\n",
        "#import streamlit as st\n",
        "import subprocess\n",
        "\n",
        "\n",
        "def run_command(args):\n",
        "    \"\"\"Run command, transfer stdout/stderr back into Streamlit and manage error\"\"\"\n",
        "    st.info(f\"Running '{' '.join(args)}'\")\n",
        "    result = subprocess.run(args, capture_output=True, text=True)\n",
        "    try:\n",
        "        result.check_returncode()\n",
        "        st.info(result.stdout)\n",
        "    except subprocess.CalledProcessError as e:\n",
        "        st.error(result.stderr)\n",
        "        raise e\n",
        "'''"
      ],
      "execution_count": null,
      "outputs": []
    },
    {
      "cell_type": "code",
      "metadata": {
        "id": "a9VIJUU7p26O"
      },
      "source": [
        ""
      ],
      "execution_count": null,
      "outputs": []
    },
    {
      "cell_type": "code",
      "metadata": {
        "id": "G4AsWCUxPd1V"
      },
      "source": [
        ""
      ],
      "execution_count": null,
      "outputs": []
    }
  ]
}